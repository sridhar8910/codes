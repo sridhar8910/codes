{
  "nbformat": 4,
  "nbformat_minor": 0,
  "metadata": {
    "colab": {
      "provenance": [],
      "authorship_tag": "ABX9TyNiEXNfpcH/mwL9+GIHB2K1",
      "include_colab_link": true
    },
    "kernelspec": {
      "name": "python3",
      "display_name": "Python 3"
    },
    "language_info": {
      "name": "python"
    }
  },
  "cells": [
    {
      "cell_type": "markdown",
      "metadata": {
        "id": "view-in-github",
        "colab_type": "text"
      },
      "source": [
        "<a href=\"https://colab.research.google.com/github/sridhar8910/codes/blob/main/Grade_Calculation_Based_on_Marks.ipynb\" target=\"_parent\"><img src=\"https://colab.research.google.com/assets/colab-badge.svg\" alt=\"Open In Colab\"/></a>"
      ]
    },
    {
      "cell_type": "markdown",
      "source": [
        "**Grade Calculation Based on Marks**"
      ],
      "metadata": {
        "id": "K1duoHYGvAT2"
      }
    },
    {
      "cell_type": "code",
      "execution_count": 1,
      "metadata": {
        "colab": {
          "base_uri": "https://localhost:8080/"
        },
        "id": "7uisbrgKu9Xb",
        "outputId": "9183ba13-1611-44fa-d6d9-4c70c29e51c0"
      },
      "outputs": [
        {
          "output_type": "stream",
          "name": "stdout",
          "text": [
            "Enter the number of students: 5\n",
            "Enter name of student 1: sree\n",
            "Enter marks of sree: 85\n",
            "Enter name of student 2: ajay\n",
            "Enter marks of ajay: 75\n",
            "Enter name of student 3: arjun\n",
            "Enter marks of arjun: 90\n",
            "Enter name of student 4: priya\n",
            "Enter marks of priya: 55\n",
            "Enter name of student 5: jay\n",
            "Enter marks of jay: 99\n",
            "\n",
            "Student Information:\n",
            "=====================\n",
            "Name\t\tMarks\tGrade\n",
            "=====================\n",
            "sree\t\t85.0\tB\n",
            "ajay\t\t75.0\tC\n",
            "arjun\t\t90.0\tA\n",
            "priya\t\t55.0\tF\n",
            "jay\t\t99.0\tA\n"
          ]
        }
      ],
      "source": [
        "def calculate_grade(marks):\n",
        "    if marks >= 90:\n",
        "        return 'A'\n",
        "    elif marks >= 80:\n",
        "        return 'B'\n",
        "    elif marks >= 70:\n",
        "        return 'C'\n",
        "    elif marks >= 60:\n",
        "        return 'D'\n",
        "    else:\n",
        "        return 'F'\n",
        "\n",
        "\n",
        "\n",
        "\n",
        "def main():\n",
        "    num_students = int(input(\"Enter the number of students: \")) #We need to give how many memebers in class to calculate the grades\n",
        "\n",
        "    students_data = []\n",
        "    for i in range(num_students):\n",
        "        name = input(f\"Enter name of student {i + 1}: \")# enter the names of the students in class\n",
        "        marks = float(input(f\"Enter marks of {name}: \"))# enter marks the optain in subject\n",
        "        grade = calculate_grade(marks)\n",
        "        students_data.append((name, marks, grade))  # we taken Headings\n",
        "\n",
        "    print(\"\\nStudent Information:\")\n",
        "    print(\"=====================\")\n",
        "    print(\"Name\\t\\tMarks\\tGrade\")\n",
        "    print(\"=====================\")\n",
        "    for data in students_data:\n",
        "        name, marks, grade = data\n",
        "        print(f\"{name}\\t\\t{marks}\\t{grade}\")\n",
        "\n",
        "\n",
        "if __name__ == \"__main__\":\n",
        "    main()"
      ]
    }
  ]
}