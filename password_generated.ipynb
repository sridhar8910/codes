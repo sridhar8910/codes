{
  "nbformat": 4,
  "nbformat_minor": 0,
  "metadata": {
    "colab": {
      "provenance": [],
      "authorship_tag": "ABX9TyP4gU/7gTho70fqaRfN47JB",
      "include_colab_link": true
    },
    "kernelspec": {
      "name": "python3",
      "display_name": "Python 3"
    },
    "language_info": {
      "name": "python"
    }
  },
  "cells": [
    {
      "cell_type": "markdown",
      "metadata": {
        "id": "view-in-github",
        "colab_type": "text"
      },
      "source": [
        "<a href=\"https://colab.research.google.com/github/sridhar8910/codes/blob/main/password_generated.ipynb\" target=\"_parent\"><img src=\"https://colab.research.google.com/assets/colab-badge.svg\" alt=\"Open In Colab\"/></a>"
      ]
    },
    {
      "cell_type": "markdown",
      "source": [
        "**Number_Guessing_Game**  \n",
        "The game will prompt the user to guess a randomly generated number between 1 and 100. It provides feedback on whether the guess is too low, too high, or correct. The game continues until the user either guesses the correct number or runs out of attempts.\n",
        "\n",
        "\n"
      ],
      "metadata": {
        "id": "QLs9h0-ykPWx"
      }
    },
    {
      "cell_type": "code",
      "source": [
        "import random\n",
        "def number_guessing_game():\n",
        "    # Generate a random number between 1 and 100\n",
        "    secret_number = random.randint(1, 100)\n",
        "\n",
        "    # Set the number of attempts\n",
        "    max_attempts = 10\n",
        "    attempts = 0\n",
        "\n",
        "    print(\"Welcome to the Number Guessing Game!\")\n",
        "    print(f\"Guess the number between 1 and 100. You have {max_attempts} attempts.\")\n",
        "\n",
        "    while attempts < max_attempts:\n",
        "        try:\n",
        "            # Get user input\n",
        "            guess = int(input(\"Enter your guess: \"))\n",
        "\n",
        "            # Check the guess\n",
        "            if guess == secret_number:\n",
        "                print(f\"Congratulations! You guessed the correct number {secret_number}!\")\n",
        "                break\n",
        "            elif guess < secret_number:\n",
        "                print(\"Too low. Try again.\")\n",
        "            else:\n",
        "                print(\"Too high. Try again.\")\n",
        "\n",
        "            # Increment the attempts\n",
        "            attempts += 1\n",
        "\n",
        "            # Check if the user has run out of attempts\n",
        "            if attempts == max_attempts:\n",
        "                print(f\"Sorry, you've run out of attempts. The correct number was {secret_number}.\")\n",
        "\n",
        "        except ValueError:\n",
        "            print(\"Please enter a valid number.\")\n",
        "\n",
        "if __name__ == \"__main__\":\n",
        "    number_guessing_game()\n"
      ],
      "metadata": {
        "colab": {
          "base_uri": "https://localhost:8080/"
        },
        "id": "vpvZJkyYim3G",
        "outputId": "6c122748-034b-4f7b-8bd3-b409bad2ba39"
      },
      "execution_count": 22,
      "outputs": [
        {
          "output_type": "stream",
          "name": "stdout",
          "text": [
            "Welcome to the Number Guessing Game!\n",
            "Guess the number between 1 and 100. You have 10 attempts.\n",
            "Enter your guess: 10\n",
            "Too low. Try again.\n",
            "Enter your guess: 20\n",
            "Too low. Try again.\n",
            "Enter your guess: 30\n",
            "Too low. Try again.\n",
            "Enter your guess: 40\n",
            "Too low. Try again.\n",
            "Enter your guess: 60\n",
            "Congratulations! You guessed the correct number 60!\n"
          ]
        }
      ]
    },
    {
      "cell_type": "markdown",
      "source": [
        " **Alternate code for number guessing **"
      ],
      "metadata": {
        "id": "yYewE45wlOrB"
      }
    },
    {
      "cell_type": "code",
      "source": [
        "import random\n",
        "\n",
        "def generate_secret_number():\n",
        "    return random.randint(1, 100)\n",
        "\n",
        "def get_user_guess():\n",
        "    while True:\n",
        "        try:\n",
        "            guess = int(input(\"Enter your guess (between 1 and 100): \"))\n",
        "            return guess\n",
        "        except ValueError:\n",
        "            print(\"Please enter a valid number.\")\n",
        "\n",
        "def check_guess(secret_number, guess):\n",
        "    if guess == secret_number:\n",
        "        return \"Congratulations! You guessed the correct number!\"\n",
        "    elif guess < secret_number:\n",
        "        return \"Too low. Try again.\"\n",
        "    else:\n",
        "        return \"Too high. Try again.\"\n",
        "\n",
        "def number_guessing_game():\n",
        "    print(\"Welcome to the Number Guessing Game!\")\n",
        "\n",
        "    while True:\n",
        "        secret_number = generate_secret_number()\n",
        "        attempts = 0\n",
        "        max_attempts = 10\n",
        "\n",
        "        print(f\"Guess the number between 1 and 100. You have {max_attempts} attempts.\")\n",
        "\n",
        "        while attempts < max_attempts:\n",
        "            guess = get_user_guess()\n",
        "            result = check_guess(secret_number, guess)\n",
        "\n",
        "            print(result)\n",
        "\n",
        "            attempts += 1\n",
        "\n",
        "            if result.startswith(\"Congratulations\"):\n",
        "                break\n",
        "\n",
        "            if attempts == max_attempts:\n",
        "                print(f\"Sorry, you've run out of attempts. The correct number was {secret_number}.\")\n",
        "\n",
        "        play_again = input(\"Do you want to play again? (yes/no): \").lower()\n",
        "        if play_again != 'yes':\n",
        "            print(\"Thanks for playing. Goodbye!\")\n",
        "            break\n",
        "\n",
        "if __name__ == \"__main__\":\n",
        "    number_guessing_game()\n"
      ],
      "metadata": {
        "colab": {
          "base_uri": "https://localhost:8080/"
        },
        "id": "KGV-82iBjXzE",
        "outputId": "b6132e73-8368-4050-db21-8a0c61c9f58d"
      },
      "execution_count": 23,
      "outputs": [
        {
          "output_type": "stream",
          "name": "stdout",
          "text": [
            "Welcome to the Number Guessing Game!\n",
            "Guess the number between 1 and 100. You have 10 attempts.\n",
            "Enter your guess (between 1 and 100): 50\n",
            "Too low. Try again.\n",
            "Enter your guess (between 1 and 100): 80\n",
            "Too low. Try again.\n",
            "Enter your guess (between 1 and 100): 90\n",
            "Too low. Try again.\n",
            "Enter your guess (between 1 and 100): 99\n",
            "Too high. Try again.\n",
            "Enter your guess (between 1 and 100): 96\n",
            "Too low. Try again.\n",
            "Enter your guess (between 1 and 100): 97\n",
            "Too low. Try again.\n",
            "Enter your guess (between 1 and 100): 98\n",
            "Congratulations! You guessed the correct number!\n",
            "Do you want to play again? (yes/no): yes\n",
            "Guess the number between 1 and 100. You have 10 attempts.\n",
            "Enter your guess (between 1 and 100): 50\n",
            "Too high. Try again.\n",
            "Enter your guess (between 1 and 100): 40\n",
            "Too high. Try again.\n",
            "Enter your guess (between 1 and 100): 30\n",
            "Too high. Try again.\n",
            "Enter your guess (between 1 and 100): 20\n",
            "Too low. Try again.\n",
            "Enter your guess (between 1 and 100): 25\n",
            "Too low. Try again.\n",
            "Enter your guess (between 1 and 100): 27\n",
            "Too low. Try again.\n",
            "Enter your guess (between 1 and 100): 29\n",
            "Congratulations! You guessed the correct number!\n",
            "Do you want to play again? (yes/no): no\n",
            "Thanks for playing. Goodbye!\n"
          ]
        }
      ]
    }
  ]
}