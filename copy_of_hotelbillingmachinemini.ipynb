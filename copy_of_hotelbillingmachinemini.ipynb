{
  "nbformat": 4,
  "nbformat_minor": 0,
  "metadata": {
    "colab": {
      "provenance": [],
      "authorship_tag": "ABX9TyOn7HpSIRhbMzD5UIt0d6WS",
      "include_colab_link": true
    },
    "kernelspec": {
      "name": "python3",
      "display_name": "Python 3"
    },
    "language_info": {
      "name": "python"
    }
  },
  "cells": [
    {
      "cell_type": "markdown",
      "metadata": {
        "id": "view-in-github",
        "colab_type": "text"
      },
      "source": [
        "<a href=\"https://colab.research.google.com/github/sridhar8910/codes/blob/main/copy_of_hotelbillingmachinemini.ipynb\" target=\"_parent\"><img src=\"https://colab.research.google.com/assets/colab-badge.svg\" alt=\"Open In Colab\"/></a>"
      ]
    },
    {
      "cell_type": "code",
      "execution_count": null,
      "metadata": {
        "colab": {
          "base_uri": "https://localhost:8080/"
        },
        "id": "f7kUQeRmZKVl",
        "outputId": "490b376d-44ac-4791-9345-31a3e435e36a"
      },
      "outputs": [
        {
          "output_type": "stream",
          "name": "stdout",
          "text": [
            "Hello! Good morning! \n",
            " WELL COME TO HOTEL SREE\n",
            "Enter item name (or 'done' to finish): idly\n",
            "Enter the price for idly in  ₹RS: 50\n",
            "Enter item name (or 'done' to finish): dosa\n",
            "Enter the price for dosa in  ₹RS: 100\n",
            "Enter item name (or 'done' to finish): vada\n",
            "Enter the price for vada in  ₹RS: 70\n",
            "Enter item name (or 'done' to finish): masala_dosa\n",
            "Enter the price for masala_dosa in  ₹RS: 75\n",
            "Enter item name (or 'done' to finish): done\n",
            "\n",
            "Bill Summary:\n",
            "idly:  ₹50.00\n",
            "dosa:  ₹100.00\n",
            "vada:  ₹70.00\n",
            "masala_dosa:  ₹75.00\n",
            "\n",
            "Total Bill Amount:  ₹295.00\n",
            " PLEASE VISIT AGAIN\n"
          ]
        }
      ],
      "source": [
        "def hotel_billing_machine():\n",
        "    items = {}\n",
        "    total_bill = 0\n",
        "\n",
        "    print(\"Hello! Good morning! \\n WELL COME TO HOTEL SREE\")\n",
        "\n",
        "    while True:\n",
        "        item_name = input(\"Enter item name (or 'done' to finish): \")\n",
        "        if item_name.lower() == 'done':\n",
        "            break\n",
        "\n",
        "        try:\n",
        "            item_price = float(input(\"Enter the price for {} in  ₹RS: \".format(item_name)))\n",
        "            items[item_name] = item_price\n",
        "            total_bill += item_price\n",
        "        except ValueError:\n",
        "            print(\"Invalid price. Please enter a Amount {:.2f} item.\".format(item_name))\n",
        "\n",
        "    print(\"\\nBill Summary:\")\n",
        "    for item, price in items.items():\n",
        "        print(\"{}:  ₹{:.2f}\".format(item, price))\n",
        "\n",
        "    print(\"\\nTotal Bill Amount:  ₹{:.2f}\\n PLEASE VISIT AGAIN\".format(total_bill))\n",
        "\n",
        "\n",
        "\n",
        "if __name__ == \"__main__\":\n",
        "    hotel_billing_machine()\n",
        "5"
      ]
    }
  ]
}