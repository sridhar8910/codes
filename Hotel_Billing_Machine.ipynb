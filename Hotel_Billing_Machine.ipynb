{
  "nbformat": 4,
  "nbformat_minor": 0,
  "metadata": {
    "colab": {
      "provenance": [],
      "authorship_tag": "ABX9TyPgRQht37eS+scz2tGCKJiE",
      "include_colab_link": true
    },
    "kernelspec": {
      "name": "python3",
      "display_name": "Python 3"
    },
    "language_info": {
      "name": "python"
    }
  },
  "cells": [
    {
      "cell_type": "markdown",
      "metadata": {
        "id": "view-in-github",
        "colab_type": "text"
      },
      "source": [
        "<a href=\"https://colab.research.google.com/github/sridhar8910/codes/blob/main/Hotel_Billing_Machine.ipynb\" target=\"_parent\"><img src=\"https://colab.research.google.com/assets/colab-badge.svg\" alt=\"Open In Colab\"/></a>"
      ]
    },
    {
      "cell_type": "markdown",
      "source": [
        "**Hotel Billing Machine**"
      ],
      "metadata": {
        "id": "QMrmxhKH0f-c"
      }
    },
    {
      "cell_type": "code",
      "execution_count": 19,
      "metadata": {
        "colab": {
          "base_uri": "https://localhost:8080/"
        },
        "id": "yEAR9vJkx4-_",
        "outputId": "4721f6fc-09ac-4ee8-b6b6-fb50fbcc4896"
      },
      "outputs": [
        {
          "output_type": "stream",
          "name": "stdout",
          "text": [
            "Welcome to Hotel\n",
            "-------------------------------\n",
            "Enter name: ram\n",
            "Enter the room rate per night:₹ 650.50\n",
            "Enter the number of nights: 2\n",
            "Enter additional charges (if any):₹ 25.22\n",
            "Total bill: ₹1326.22\n"
          ]
        }
      ],
      "source": [
        "def calculate_total_bill(room_rate, num_nights, additional_charges):\n",
        "    try:\n",
        "        room_rate = float(room_rate)\n",
        "        num_nights = int(num_nights)\n",
        "        additional_charges = float(additional_charges)\n",
        "    except ValueError:\n",
        "        return \"Invalid input. Please enter valid numbers.\"\n",
        "\n",
        "    total_cost = room_rate * num_nights + additional_charges\n",
        "    return total_cost\n",
        "\n",
        "def main():\n",
        "    print(\"Welcome to Hotel\")\n",
        "    print(\"-------------------------------\")\n",
        "    name=str(input(\"Enter name: \"))\n",
        "    try:\n",
        "      room_rate = float(input(\"Enter the room rate per night:₹ \"))\n",
        "      num_nights =int(input(\"Enter the number of nights: \"))\n",
        "      additional_charges = float(input(\"Enter additional charges (if any):₹ \"))\n",
        "\n",
        "      total_bill = calculate_total_bill(room_rate, num_nights, additional_charges)\n",
        "      if isinstance(total_bill, str):\n",
        "        print(total_bill)\n",
        "      else:\n",
        "          print(f\"Total bill: ₹{total_bill:.2f}\")\n",
        "    except ValueError:\n",
        "      print(\"Invalid input\\n please enter valid numbers\")\n",
        "\n",
        "\n",
        "\n",
        "if __name__ == \"__main__\":\n",
        "    main()\n"
      ]
    },
    {
      "cell_type": "markdown",
      "source": [
        "* **Another method**"
      ],
      "metadata": {
        "id": "PYTEN0yz3zzh"
      }
    },
    {
      "cell_type": "code",
      "source": [
        "def main():\n",
        "    print(\"Welcome to HOtel \\n----------------------------------\")\n",
        "\n",
        "    try:\n",
        "        name=str(input(\"Name: \"))\n",
        "        r = float(input(\"Enter the room rate per night:₹ \"))\n",
        "        n = int(input(\"Enter the number of nights: \"))\n",
        "        a = float(input(\"Enter additional charges (if any):₹ \"))\n",
        "        print(f\"Total bill: ₹{r*n+a:.2f}\")\n",
        "    except ValueError:\n",
        "        print(\"Invalid input. Please enter valid numbers.\")\n",
        "\n",
        "if __name__ == \"__main__\":\n",
        "    main()\n"
      ],
      "metadata": {
        "colab": {
          "base_uri": "https://localhost:8080/"
        },
        "id": "eStHPJbk3vej",
        "outputId": "a2c5f3bc-dc77-4d69-8170-d4153f5dc446"
      },
      "execution_count": 20,
      "outputs": [
        {
          "output_type": "stream",
          "name": "stdout",
          "text": [
            "Welcome to HOtel \n",
            "----------------------------------\n",
            "Name: ram\n",
            "Enter the room rate per night:₹ 650.50\n",
            "Enter the number of nights: 2\n",
            "Enter additional charges (if any):₹ 25.22\n",
            "Total bill: ₹1326.22\n"
          ]
        }
      ]
    }
  ]
}