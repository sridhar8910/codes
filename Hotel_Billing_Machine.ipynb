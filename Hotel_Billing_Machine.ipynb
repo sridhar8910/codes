{
  "nbformat": 4,
  "nbformat_minor": 0,
  "metadata": {
    "colab": {
      "provenance": [],
      "authorship_tag": "ABX9TyP/b0Z76tX0uo7A3pXeQ/kH",
      "include_colab_link": true
    },
    "kernelspec": {
      "name": "python3",
      "display_name": "Python 3"
    },
    "language_info": {
      "name": "python"
    }
  },
  "cells": [
    {
      "cell_type": "markdown",
      "metadata": {
        "id": "view-in-github",
        "colab_type": "text"
      },
      "source": [
        "<a href=\"https://colab.research.google.com/github/sridhar8910/codes/blob/main/Hotel_Billing_Machine.ipynb\" target=\"_parent\"><img src=\"https://colab.research.google.com/assets/colab-badge.svg\" alt=\"Open In Colab\"/></a>"
      ]
    },
    {
      "cell_type": "markdown",
      "source": [
        "**Hotel Billing Machine**"
      ],
      "metadata": {
        "id": "QMrmxhKH0f-c"
      }
    },
    {
      "cell_type": "code",
      "execution_count": 2,
      "metadata": {
        "colab": {
          "base_uri": "https://localhost:8080/"
        },
        "id": "yEAR9vJkx4-_",
        "outputId": "7fd2a354-79cc-479f-f12d-19de0a605b75"
      },
      "outputs": [
        {
          "output_type": "stream",
          "name": "stdout",
          "text": [
            "Hotel Billing Machine\n",
            "--------------------\n",
            "Enter the room rate per night:₹ 650\n",
            "Enter the number of nights: 3\n",
            "Enter additional charges (if any):₹ 0\n",
            "Total bill: $1950.00\n"
          ]
        }
      ],
      "source": [
        "def calculate_total_bill(room_rate, num_nights, additional_charges):\n",
        "    try:\n",
        "        room_rate = float(room_rate)\n",
        "        num_nights = int(num_nights)\n",
        "        additional_charges = float(additional_charges)\n",
        "    except ValueError:\n",
        "        return \"Invalid input. Please enter valid numbers.\"\n",
        "\n",
        "    total_cost = room_rate * num_nights + additional_charges\n",
        "    return total_cost\n",
        "\n",
        "def main():\n",
        "    print(\"Hotel Billing Machine\")\n",
        "    print(\"--------------------\")\n",
        "\n",
        "    room_rate = input(\"Enter the room rate per night:₹ \")\n",
        "    num_nights = input(\"Enter the number of nights: \")\n",
        "    additional_charges = input(\"Enter additional charges (if any):₹ \")\n",
        "\n",
        "    total_bill = calculate_total_bill(room_rate, num_nights, additional_charges)\n",
        "\n",
        "    if isinstance(total_bill, str):\n",
        "        print(total_bill)\n",
        "    else:\n",
        "        print(f\"Total bill: ${total_bill:.2f}\")\n",
        "\n",
        "if __name__ == \"__main__\":\n",
        "    main()\n"
      ]
    }
  ]
}